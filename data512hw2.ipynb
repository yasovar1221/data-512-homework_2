{
 "cells": [
  {
   "cell_type": "code",
   "execution_count": 79,
   "id": "742cea5a-b6ce-4a70-8509-4c1de5662417",
   "metadata": {},
   "outputs": [],
   "source": [
    "import pandas as pd\n",
    "import requests\n",
    "import json\n",
    "import time\n",
    "import os\n",
    "from tqdm import tqdm\n",
    "import re"
   ]
  },
  {
   "cell_type": "code",
   "execution_count": 80,
   "id": "f4077bc0-7706-4188-9fb0-ba7902c1cd08",
   "metadata": {},
   "outputs": [],
   "source": [
    "politicians_df = pd.read_csv('politicians_by_country_AUG.2024.csv')\n",
    "population_df = pd.read_csv('population_by_country_AUG.2024.csv')"
   ]
  },
  {
   "cell_type": "code",
   "execution_count": 81,
   "id": "c6ffc9d8-8d4c-4920-a8b4-75b90e9e2b73",
   "metadata": {},
   "outputs": [
    {
     "name": "stdout",
     "output_type": "stream",
     "text": [
      "                   name                                                url  \\\n",
      "0        Majah Ha Adrif       https://en.wikipedia.org/wiki/Majah_Ha_Adrif   \n",
      "1     Haroon al-Afghani    https://en.wikipedia.org/wiki/Haroon_al-Afghani   \n",
      "2           Tayyab Agha          https://en.wikipedia.org/wiki/Tayyab_Agha   \n",
      "3  Khadija Zahra Ahmadi  https://en.wikipedia.org/wiki/Khadija_Zahra_Ah...   \n",
      "4        Aziza Ahmadyar       https://en.wikipedia.org/wiki/Aziza_Ahmadyar   \n",
      "\n",
      "       country  \n",
      "0  Afghanistan  \n",
      "1  Afghanistan  \n",
      "2  Afghanistan  \n",
      "3  Afghanistan  \n",
      "4  Afghanistan  \n"
     ]
    }
   ],
   "source": [
    "print(politicians_df.head())"
   ]
  },
  {
   "cell_type": "code",
   "execution_count": 82,
   "id": "a805afaa-bee9-42b7-b3df-50727d35e374",
   "metadata": {},
   "outputs": [
    {
     "name": "stdout",
     "output_type": "stream",
     "text": [
      "         Geography  Population\n",
      "0            WORLD      8009.0\n",
      "1           AFRICA      1453.0\n",
      "2  NORTHERN AFRICA       256.0\n",
      "3          Algeria        46.8\n",
      "4            Egypt       105.2\n"
     ]
    }
   ],
   "source": [
    "print(population_df.head())"
   ]
  },
  {
   "cell_type": "code",
   "execution_count": 83,
   "id": "32798ee7-6b6c-4457-928b-2d8545070693",
   "metadata": {},
   "outputs": [
    {
     "name": "stdout",
     "output_type": "stream",
     "text": [
      "                                                 url         article_title\n",
      "0       https://en.wikipedia.org/wiki/Majah_Ha_Adrif        Majah Ha Adrif\n",
      "1    https://en.wikipedia.org/wiki/Haroon_al-Afghani     Haroon al-Afghani\n",
      "2          https://en.wikipedia.org/wiki/Tayyab_Agha           Tayyab Agha\n",
      "3  https://en.wikipedia.org/wiki/Khadija_Zahra_Ah...  Khadija Zahra Ahmadi\n",
      "4       https://en.wikipedia.org/wiki/Aziza_Ahmadyar        Aziza Ahmadyar\n"
     ]
    }
   ],
   "source": [
    "# Function to extract article title from URL\n",
    "def extract_title_from_url(url):\n",
    "    # Check if the URL is a string\n",
    "    if isinstance(url, str):\n",
    "        # Extract the part after '/wiki/' in the URL\n",
    "        match = re.search(r'/wiki/(.+)$', url)\n",
    "        if match:\n",
    "            # Get the article title\n",
    "            title = match.group(1)\n",
    "            # Replace underscores with spaces\n",
    "            title = title.replace('_', ' ')\n",
    "            # Decode URL-encoded characters\n",
    "            title = requests.utils.unquote(title)\n",
    "            return title\n",
    "    return None\n",
    "\n",
    "# Apply the function to create a new column 'article_title'\n",
    "politicians_df['article_title'] = politicians_df['url'].apply(extract_title_from_url)\n",
    "\n",
    "# Check the result\n",
    "print(politicians_df[['url', 'article_title']].head())"
   ]
  },
  {
   "cell_type": "code",
   "execution_count": 112,
   "id": "cd9b95f8-3f93-4f7c-a7e9-63305f5a4d61",
   "metadata": {},
   "outputs": [],
   "source": [
    "# Give your Token here\n",
    "ORES_ACCESS_TOKEN=''\n",
    "ACCESS_TOKEN = ORES_ACCESS_TOKEN\n"
   ]
  },
  {
   "cell_type": "code",
   "execution_count": 114,
   "id": "d2d0fd74-2b19-4973-8a9a-fd1f8655a6f0",
   "metadata": {},
   "outputs": [],
   "source": [
    "# Replace with your actual email address\n",
    "EMAIL_ADDRESS = 'yasovar@uw.edu'\n",
    "\n",
    "# Headers for ORES API requests\n",
    "REQUEST_HEADERS = {\n",
    "    'User-Agent': f\"{EMAIL_ADDRESS}, University of Washington, MSDS DATA 512 - AUTUMN 2024\",\n",
    "    'Content-Type': 'application/json',\n",
    "    'Authorization': f\"Bearer {ACCESS_TOKEN}\"\n",
    "}"
   ]
  },
  {
   "cell_type": "code",
   "execution_count": 115,
   "id": "63d81672-c150-403b-b58c-b3be330f2f0f",
   "metadata": {},
   "outputs": [],
   "source": [
    "# ORES API endpoint and model\n",
    "ORES_API_ENDPOINT = \"https://api.wikimedia.org/service/lw/inference/v1/models/{model_name}:predict\"\n",
    "ORES_MODEL_NAME = \"enwiki-articlequality\"\n",
    "\n",
    "# Wikipedia API endpoint\n",
    "WIKIPEDIA_API_ENDPOINT = \"https://en.wikipedia.org/w/api.php\""
   ]
  },
  {
   "cell_type": "code",
   "execution_count": 116,
   "id": "031799b7-4362-4809-ba81-746b47045454",
   "metadata": {},
   "outputs": [],
   "source": [
    "def get_latest_revision_id(article_title):\n",
    "    params = {\n",
    "        \"action\": \"query\",\n",
    "        \"format\": \"json\",\n",
    "        \"titles\": article_title,\n",
    "        \"prop\": \"revisions\",\n",
    "        \"rvprop\": \"ids\",\n",
    "        \"rvslots\": \"*\"\n",
    "    }\n",
    "    \n",
    "    # Throttle the request to respect rate limits\n",
    "    time.sleep(0.2)\n",
    "    \n",
    "    response = requests.get(WIKIPEDIA_API_ENDPOINT, headers={'User-Agent': REQUEST_HEADERS['User-Agent']}, params=params)\n",
    "    data = response.json()\n",
    "    \n",
    "    pages = data.get('query', {}).get('pages', {})\n",
    "    for page_id in pages:\n",
    "        revisions = pages[page_id].get('revisions', [])\n",
    "        if revisions:\n",
    "            return revisions[0]['revid']\n",
    "    return None"
   ]
  },
  {
   "cell_type": "code",
   "execution_count": 117,
   "id": "e2bd4369-5b91-4227-acba-167246f7a606",
   "metadata": {},
   "outputs": [],
   "source": [
    "def get_article_quality(revision_id):\n",
    "    url = ORES_API_ENDPOINT.format(model_name=ORES_MODEL_NAME)\n",
    "    data = {\n",
    "        \"rev_id\": revision_id,\n",
    "        \"features\": False\n",
    "    }\n",
    "    \n",
    "    # Throttle the request to respect rate limits\n",
    "    time.sleep(0.2)\n",
    "    \n",
    "    response = requests.post(url, headers=REQUEST_HEADERS, data=json.dumps(data))\n",
    "    \n",
    "    if response.status_code == 200:\n",
    "        result = response.json()\n",
    "        scores = result.get('enwiki', {}).get('scores', {})\n",
    "        revision_scores = scores.get(str(revision_id), {})\n",
    "        prediction = revision_scores.get('prediction', None)\n",
    "        return prediction\n",
    "    else:\n",
    "        print(f\"Error {response.status_code}: Unable to get quality prediction for revision ID {revision_id}\")\n",
    "        return None"
   ]
  },
  {
   "cell_type": "code",
   "execution_count": 118,
   "id": "d3343df0-5768-4b08-8019-21e09b2485ce",
   "metadata": {},
   "outputs": [
    {
     "name": "stderr",
     "output_type": "stream",
     "text": [
      "Processing articles:   0%|                             | 0/7155 [00:00<?, ?it/s]"
     ]
    },
    {
     "name": "stdout",
     "output_type": "stream",
     "text": [
      "Error 401: Unable to get quality prediction for revision ID 1233202991\n"
     ]
    },
    {
     "name": "stderr",
     "output_type": "stream",
     "text": [
      "\n",
      "0it [00:00, ?it/s]\u001b[A\n",
      "0it [00:00, ?it/s, errors=0]\u001b[A\n",
      "Processing articles:   0%|                   | 1/7155 [00:01<3:36:30,  1.82s/it]\n"
     ]
    },
    {
     "ename": "KeyboardInterrupt",
     "evalue": "",
     "output_type": "error",
     "traceback": [
      "\u001b[0;31m---------------------------------------------------------------------------\u001b[0m",
      "\u001b[0;31mKeyboardInterrupt\u001b[0m                         Traceback (most recent call last)",
      "Cell \u001b[0;32mIn[118], line 25\u001b[0m\n\u001b[1;32m     21\u001b[0m revision_id \u001b[38;5;241m=\u001b[39m get_latest_revision_id(article_title)\n\u001b[1;32m     23\u001b[0m \u001b[38;5;28;01mif\u001b[39;00m revision_id:\n\u001b[1;32m     24\u001b[0m     \u001b[38;5;66;03m# Get the article quality prediction\u001b[39;00m\n\u001b[0;32m---> 25\u001b[0m     quality \u001b[38;5;241m=\u001b[39m get_article_quality(revision_id)\n\u001b[1;32m     27\u001b[0m     \u001b[38;5;66;03m# Update the DataFrame\u001b[39;00m\n\u001b[1;32m     28\u001b[0m     politicians_df\u001b[38;5;241m.\u001b[39mat[index, \u001b[38;5;124m'\u001b[39m\u001b[38;5;124mrevision_id\u001b[39m\u001b[38;5;124m'\u001b[39m] \u001b[38;5;241m=\u001b[39m revision_id\n",
      "Cell \u001b[0;32mIn[117], line 20\u001b[0m, in \u001b[0;36mget_article_quality\u001b[0;34m(revision_id)\u001b[0m\n\u001b[1;32m     17\u001b[0m \u001b[38;5;66;03m# Throttle the request to respect rate limits\u001b[39;00m\n\u001b[1;32m     18\u001b[0m time\u001b[38;5;241m.\u001b[39msleep(\u001b[38;5;241m0.2\u001b[39m)\n\u001b[0;32m---> 20\u001b[0m response \u001b[38;5;241m=\u001b[39m requests\u001b[38;5;241m.\u001b[39mpost(url, headers\u001b[38;5;241m=\u001b[39mREQUEST_HEADERS, data\u001b[38;5;241m=\u001b[39mjson\u001b[38;5;241m.\u001b[39mdumps(data))\n\u001b[1;32m     22\u001b[0m \u001b[38;5;28;01mif\u001b[39;00m response\u001b[38;5;241m.\u001b[39mstatus_code \u001b[38;5;241m==\u001b[39m \u001b[38;5;241m200\u001b[39m:\n\u001b[1;32m     23\u001b[0m     result \u001b[38;5;241m=\u001b[39m response\u001b[38;5;241m.\u001b[39mjson()\n",
      "File \u001b[0;32m~/anaconda3/lib/python3.11/site-packages/requests/api.py:115\u001b[0m, in \u001b[0;36mpost\u001b[0;34m(url, data, json, **kwargs)\u001b[0m\n\u001b[1;32m    103\u001b[0m \u001b[38;5;28;01mdef\u001b[39;00m \u001b[38;5;21mpost\u001b[39m(url, data\u001b[38;5;241m=\u001b[39m\u001b[38;5;28;01mNone\u001b[39;00m, json\u001b[38;5;241m=\u001b[39m\u001b[38;5;28;01mNone\u001b[39;00m, \u001b[38;5;241m*\u001b[39m\u001b[38;5;241m*\u001b[39mkwargs):\n\u001b[1;32m    104\u001b[0m \u001b[38;5;250m    \u001b[39m\u001b[38;5;124mr\u001b[39m\u001b[38;5;124;03m\"\"\"Sends a POST request.\u001b[39;00m\n\u001b[1;32m    105\u001b[0m \n\u001b[1;32m    106\u001b[0m \u001b[38;5;124;03m    :param url: URL for the new :class:`Request` object.\u001b[39;00m\n\u001b[0;32m   (...)\u001b[0m\n\u001b[1;32m    112\u001b[0m \u001b[38;5;124;03m    :rtype: requests.Response\u001b[39;00m\n\u001b[1;32m    113\u001b[0m \u001b[38;5;124;03m    \"\"\"\u001b[39;00m\n\u001b[0;32m--> 115\u001b[0m     \u001b[38;5;28;01mreturn\u001b[39;00m request(\u001b[38;5;124m\"\u001b[39m\u001b[38;5;124mpost\u001b[39m\u001b[38;5;124m\"\u001b[39m, url, data\u001b[38;5;241m=\u001b[39mdata, json\u001b[38;5;241m=\u001b[39mjson, \u001b[38;5;241m*\u001b[39m\u001b[38;5;241m*\u001b[39mkwargs)\n",
      "File \u001b[0;32m~/anaconda3/lib/python3.11/site-packages/requests/api.py:59\u001b[0m, in \u001b[0;36mrequest\u001b[0;34m(method, url, **kwargs)\u001b[0m\n\u001b[1;32m     55\u001b[0m \u001b[38;5;66;03m# By using the 'with' statement we are sure the session is closed, thus we\u001b[39;00m\n\u001b[1;32m     56\u001b[0m \u001b[38;5;66;03m# avoid leaving sockets open which can trigger a ResourceWarning in some\u001b[39;00m\n\u001b[1;32m     57\u001b[0m \u001b[38;5;66;03m# cases, and look like a memory leak in others.\u001b[39;00m\n\u001b[1;32m     58\u001b[0m \u001b[38;5;28;01mwith\u001b[39;00m sessions\u001b[38;5;241m.\u001b[39mSession() \u001b[38;5;28;01mas\u001b[39;00m session:\n\u001b[0;32m---> 59\u001b[0m     \u001b[38;5;28;01mreturn\u001b[39;00m session\u001b[38;5;241m.\u001b[39mrequest(method\u001b[38;5;241m=\u001b[39mmethod, url\u001b[38;5;241m=\u001b[39murl, \u001b[38;5;241m*\u001b[39m\u001b[38;5;241m*\u001b[39mkwargs)\n",
      "File \u001b[0;32m~/anaconda3/lib/python3.11/site-packages/requests/sessions.py:589\u001b[0m, in \u001b[0;36mSession.request\u001b[0;34m(self, method, url, params, data, headers, cookies, files, auth, timeout, allow_redirects, proxies, hooks, stream, verify, cert, json)\u001b[0m\n\u001b[1;32m    584\u001b[0m send_kwargs \u001b[38;5;241m=\u001b[39m {\n\u001b[1;32m    585\u001b[0m     \u001b[38;5;124m\"\u001b[39m\u001b[38;5;124mtimeout\u001b[39m\u001b[38;5;124m\"\u001b[39m: timeout,\n\u001b[1;32m    586\u001b[0m     \u001b[38;5;124m\"\u001b[39m\u001b[38;5;124mallow_redirects\u001b[39m\u001b[38;5;124m\"\u001b[39m: allow_redirects,\n\u001b[1;32m    587\u001b[0m }\n\u001b[1;32m    588\u001b[0m send_kwargs\u001b[38;5;241m.\u001b[39mupdate(settings)\n\u001b[0;32m--> 589\u001b[0m resp \u001b[38;5;241m=\u001b[39m \u001b[38;5;28mself\u001b[39m\u001b[38;5;241m.\u001b[39msend(prep, \u001b[38;5;241m*\u001b[39m\u001b[38;5;241m*\u001b[39msend_kwargs)\n\u001b[1;32m    591\u001b[0m \u001b[38;5;28;01mreturn\u001b[39;00m resp\n",
      "File \u001b[0;32m~/anaconda3/lib/python3.11/site-packages/requests/sessions.py:703\u001b[0m, in \u001b[0;36mSession.send\u001b[0;34m(self, request, **kwargs)\u001b[0m\n\u001b[1;32m    700\u001b[0m start \u001b[38;5;241m=\u001b[39m preferred_clock()\n\u001b[1;32m    702\u001b[0m \u001b[38;5;66;03m# Send the request\u001b[39;00m\n\u001b[0;32m--> 703\u001b[0m r \u001b[38;5;241m=\u001b[39m adapter\u001b[38;5;241m.\u001b[39msend(request, \u001b[38;5;241m*\u001b[39m\u001b[38;5;241m*\u001b[39mkwargs)\n\u001b[1;32m    705\u001b[0m \u001b[38;5;66;03m# Total elapsed time of the request (approximately)\u001b[39;00m\n\u001b[1;32m    706\u001b[0m elapsed \u001b[38;5;241m=\u001b[39m preferred_clock() \u001b[38;5;241m-\u001b[39m start\n",
      "File \u001b[0;32m~/anaconda3/lib/python3.11/site-packages/requests/adapters.py:486\u001b[0m, in \u001b[0;36mHTTPAdapter.send\u001b[0;34m(self, request, stream, timeout, verify, cert, proxies)\u001b[0m\n\u001b[1;32m    483\u001b[0m     timeout \u001b[38;5;241m=\u001b[39m TimeoutSauce(connect\u001b[38;5;241m=\u001b[39mtimeout, read\u001b[38;5;241m=\u001b[39mtimeout)\n\u001b[1;32m    485\u001b[0m \u001b[38;5;28;01mtry\u001b[39;00m:\n\u001b[0;32m--> 486\u001b[0m     resp \u001b[38;5;241m=\u001b[39m conn\u001b[38;5;241m.\u001b[39murlopen(\n\u001b[1;32m    487\u001b[0m         method\u001b[38;5;241m=\u001b[39mrequest\u001b[38;5;241m.\u001b[39mmethod,\n\u001b[1;32m    488\u001b[0m         url\u001b[38;5;241m=\u001b[39murl,\n\u001b[1;32m    489\u001b[0m         body\u001b[38;5;241m=\u001b[39mrequest\u001b[38;5;241m.\u001b[39mbody,\n\u001b[1;32m    490\u001b[0m         headers\u001b[38;5;241m=\u001b[39mrequest\u001b[38;5;241m.\u001b[39mheaders,\n\u001b[1;32m    491\u001b[0m         redirect\u001b[38;5;241m=\u001b[39m\u001b[38;5;28;01mFalse\u001b[39;00m,\n\u001b[1;32m    492\u001b[0m         assert_same_host\u001b[38;5;241m=\u001b[39m\u001b[38;5;28;01mFalse\u001b[39;00m,\n\u001b[1;32m    493\u001b[0m         preload_content\u001b[38;5;241m=\u001b[39m\u001b[38;5;28;01mFalse\u001b[39;00m,\n\u001b[1;32m    494\u001b[0m         decode_content\u001b[38;5;241m=\u001b[39m\u001b[38;5;28;01mFalse\u001b[39;00m,\n\u001b[1;32m    495\u001b[0m         retries\u001b[38;5;241m=\u001b[39m\u001b[38;5;28mself\u001b[39m\u001b[38;5;241m.\u001b[39mmax_retries,\n\u001b[1;32m    496\u001b[0m         timeout\u001b[38;5;241m=\u001b[39mtimeout,\n\u001b[1;32m    497\u001b[0m         chunked\u001b[38;5;241m=\u001b[39mchunked,\n\u001b[1;32m    498\u001b[0m     )\n\u001b[1;32m    500\u001b[0m \u001b[38;5;28;01mexcept\u001b[39;00m (ProtocolError, \u001b[38;5;167;01mOSError\u001b[39;00m) \u001b[38;5;28;01mas\u001b[39;00m err:\n\u001b[1;32m    501\u001b[0m     \u001b[38;5;28;01mraise\u001b[39;00m \u001b[38;5;167;01mConnectionError\u001b[39;00m(err, request\u001b[38;5;241m=\u001b[39mrequest)\n",
      "File \u001b[0;32m~/anaconda3/lib/python3.11/site-packages/urllib3/connectionpool.py:715\u001b[0m, in \u001b[0;36mHTTPConnectionPool.urlopen\u001b[0;34m(self, method, url, body, headers, retries, redirect, assert_same_host, timeout, pool_timeout, release_conn, chunked, body_pos, **response_kw)\u001b[0m\n\u001b[1;32m    712\u001b[0m     \u001b[38;5;28mself\u001b[39m\u001b[38;5;241m.\u001b[39m_prepare_proxy(conn)\n\u001b[1;32m    714\u001b[0m \u001b[38;5;66;03m# Make the request on the httplib connection object.\u001b[39;00m\n\u001b[0;32m--> 715\u001b[0m httplib_response \u001b[38;5;241m=\u001b[39m \u001b[38;5;28mself\u001b[39m\u001b[38;5;241m.\u001b[39m_make_request(\n\u001b[1;32m    716\u001b[0m     conn,\n\u001b[1;32m    717\u001b[0m     method,\n\u001b[1;32m    718\u001b[0m     url,\n\u001b[1;32m    719\u001b[0m     timeout\u001b[38;5;241m=\u001b[39mtimeout_obj,\n\u001b[1;32m    720\u001b[0m     body\u001b[38;5;241m=\u001b[39mbody,\n\u001b[1;32m    721\u001b[0m     headers\u001b[38;5;241m=\u001b[39mheaders,\n\u001b[1;32m    722\u001b[0m     chunked\u001b[38;5;241m=\u001b[39mchunked,\n\u001b[1;32m    723\u001b[0m )\n\u001b[1;32m    725\u001b[0m \u001b[38;5;66;03m# If we're going to release the connection in ``finally:``, then\u001b[39;00m\n\u001b[1;32m    726\u001b[0m \u001b[38;5;66;03m# the response doesn't need to know about the connection. Otherwise\u001b[39;00m\n\u001b[1;32m    727\u001b[0m \u001b[38;5;66;03m# it will also try to release it and we'll have a double-release\u001b[39;00m\n\u001b[1;32m    728\u001b[0m \u001b[38;5;66;03m# mess.\u001b[39;00m\n\u001b[1;32m    729\u001b[0m response_conn \u001b[38;5;241m=\u001b[39m conn \u001b[38;5;28;01mif\u001b[39;00m \u001b[38;5;129;01mnot\u001b[39;00m release_conn \u001b[38;5;28;01melse\u001b[39;00m \u001b[38;5;28;01mNone\u001b[39;00m\n",
      "File \u001b[0;32m~/anaconda3/lib/python3.11/site-packages/urllib3/connectionpool.py:404\u001b[0m, in \u001b[0;36mHTTPConnectionPool._make_request\u001b[0;34m(self, conn, method, url, timeout, chunked, **httplib_request_kw)\u001b[0m\n\u001b[1;32m    402\u001b[0m \u001b[38;5;66;03m# Trigger any extra validation we need to do.\u001b[39;00m\n\u001b[1;32m    403\u001b[0m \u001b[38;5;28;01mtry\u001b[39;00m:\n\u001b[0;32m--> 404\u001b[0m     \u001b[38;5;28mself\u001b[39m\u001b[38;5;241m.\u001b[39m_validate_conn(conn)\n\u001b[1;32m    405\u001b[0m \u001b[38;5;28;01mexcept\u001b[39;00m (SocketTimeout, BaseSSLError) \u001b[38;5;28;01mas\u001b[39;00m e:\n\u001b[1;32m    406\u001b[0m     \u001b[38;5;66;03m# Py2 raises this as a BaseSSLError, Py3 raises it as socket timeout.\u001b[39;00m\n\u001b[1;32m    407\u001b[0m     \u001b[38;5;28mself\u001b[39m\u001b[38;5;241m.\u001b[39m_raise_timeout(err\u001b[38;5;241m=\u001b[39me, url\u001b[38;5;241m=\u001b[39murl, timeout_value\u001b[38;5;241m=\u001b[39mconn\u001b[38;5;241m.\u001b[39mtimeout)\n",
      "File \u001b[0;32m~/anaconda3/lib/python3.11/site-packages/urllib3/connectionpool.py:1058\u001b[0m, in \u001b[0;36mHTTPSConnectionPool._validate_conn\u001b[0;34m(self, conn)\u001b[0m\n\u001b[1;32m   1056\u001b[0m \u001b[38;5;66;03m# Force connect early to allow us to validate the connection.\u001b[39;00m\n\u001b[1;32m   1057\u001b[0m \u001b[38;5;28;01mif\u001b[39;00m \u001b[38;5;129;01mnot\u001b[39;00m \u001b[38;5;28mgetattr\u001b[39m(conn, \u001b[38;5;124m\"\u001b[39m\u001b[38;5;124msock\u001b[39m\u001b[38;5;124m\"\u001b[39m, \u001b[38;5;28;01mNone\u001b[39;00m):  \u001b[38;5;66;03m# AppEngine might not have  `.sock`\u001b[39;00m\n\u001b[0;32m-> 1058\u001b[0m     conn\u001b[38;5;241m.\u001b[39mconnect()\n\u001b[1;32m   1060\u001b[0m \u001b[38;5;28;01mif\u001b[39;00m \u001b[38;5;129;01mnot\u001b[39;00m conn\u001b[38;5;241m.\u001b[39mis_verified:\n\u001b[1;32m   1061\u001b[0m     warnings\u001b[38;5;241m.\u001b[39mwarn(\n\u001b[1;32m   1062\u001b[0m         (\n\u001b[1;32m   1063\u001b[0m             \u001b[38;5;124m\"\u001b[39m\u001b[38;5;124mUnverified HTTPS request is being made to host \u001b[39m\u001b[38;5;124m'\u001b[39m\u001b[38;5;132;01m%s\u001b[39;00m\u001b[38;5;124m'\u001b[39m\u001b[38;5;124m. \u001b[39m\u001b[38;5;124m\"\u001b[39m\n\u001b[0;32m   (...)\u001b[0m\n\u001b[1;32m   1068\u001b[0m         InsecureRequestWarning,\n\u001b[1;32m   1069\u001b[0m     )\n",
      "File \u001b[0;32m~/anaconda3/lib/python3.11/site-packages/urllib3/connection.py:419\u001b[0m, in \u001b[0;36mHTTPSConnection.connect\u001b[0;34m(self)\u001b[0m\n\u001b[1;32m    410\u001b[0m \u001b[38;5;28;01mif\u001b[39;00m (\n\u001b[1;32m    411\u001b[0m     \u001b[38;5;129;01mnot\u001b[39;00m \u001b[38;5;28mself\u001b[39m\u001b[38;5;241m.\u001b[39mca_certs\n\u001b[1;32m    412\u001b[0m     \u001b[38;5;129;01mand\u001b[39;00m \u001b[38;5;129;01mnot\u001b[39;00m \u001b[38;5;28mself\u001b[39m\u001b[38;5;241m.\u001b[39mca_cert_dir\n\u001b[0;32m   (...)\u001b[0m\n\u001b[1;32m    415\u001b[0m     \u001b[38;5;129;01mand\u001b[39;00m \u001b[38;5;28mhasattr\u001b[39m(context, \u001b[38;5;124m\"\u001b[39m\u001b[38;5;124mload_default_certs\u001b[39m\u001b[38;5;124m\"\u001b[39m)\n\u001b[1;32m    416\u001b[0m ):\n\u001b[1;32m    417\u001b[0m     context\u001b[38;5;241m.\u001b[39mload_default_certs()\n\u001b[0;32m--> 419\u001b[0m \u001b[38;5;28mself\u001b[39m\u001b[38;5;241m.\u001b[39msock \u001b[38;5;241m=\u001b[39m ssl_wrap_socket(\n\u001b[1;32m    420\u001b[0m     sock\u001b[38;5;241m=\u001b[39mconn,\n\u001b[1;32m    421\u001b[0m     keyfile\u001b[38;5;241m=\u001b[39m\u001b[38;5;28mself\u001b[39m\u001b[38;5;241m.\u001b[39mkey_file,\n\u001b[1;32m    422\u001b[0m     certfile\u001b[38;5;241m=\u001b[39m\u001b[38;5;28mself\u001b[39m\u001b[38;5;241m.\u001b[39mcert_file,\n\u001b[1;32m    423\u001b[0m     key_password\u001b[38;5;241m=\u001b[39m\u001b[38;5;28mself\u001b[39m\u001b[38;5;241m.\u001b[39mkey_password,\n\u001b[1;32m    424\u001b[0m     ca_certs\u001b[38;5;241m=\u001b[39m\u001b[38;5;28mself\u001b[39m\u001b[38;5;241m.\u001b[39mca_certs,\n\u001b[1;32m    425\u001b[0m     ca_cert_dir\u001b[38;5;241m=\u001b[39m\u001b[38;5;28mself\u001b[39m\u001b[38;5;241m.\u001b[39mca_cert_dir,\n\u001b[1;32m    426\u001b[0m     ca_cert_data\u001b[38;5;241m=\u001b[39m\u001b[38;5;28mself\u001b[39m\u001b[38;5;241m.\u001b[39mca_cert_data,\n\u001b[1;32m    427\u001b[0m     server_hostname\u001b[38;5;241m=\u001b[39mserver_hostname,\n\u001b[1;32m    428\u001b[0m     ssl_context\u001b[38;5;241m=\u001b[39mcontext,\n\u001b[1;32m    429\u001b[0m     tls_in_tls\u001b[38;5;241m=\u001b[39mtls_in_tls,\n\u001b[1;32m    430\u001b[0m )\n\u001b[1;32m    432\u001b[0m \u001b[38;5;66;03m# If we're using all defaults and the connection\u001b[39;00m\n\u001b[1;32m    433\u001b[0m \u001b[38;5;66;03m# is TLSv1 or TLSv1.1 we throw a DeprecationWarning\u001b[39;00m\n\u001b[1;32m    434\u001b[0m \u001b[38;5;66;03m# for the host.\u001b[39;00m\n\u001b[1;32m    435\u001b[0m \u001b[38;5;28;01mif\u001b[39;00m (\n\u001b[1;32m    436\u001b[0m     default_ssl_context\n\u001b[1;32m    437\u001b[0m     \u001b[38;5;129;01mand\u001b[39;00m \u001b[38;5;28mself\u001b[39m\u001b[38;5;241m.\u001b[39mssl_version \u001b[38;5;129;01mis\u001b[39;00m \u001b[38;5;28;01mNone\u001b[39;00m\n\u001b[1;32m    438\u001b[0m     \u001b[38;5;129;01mand\u001b[39;00m \u001b[38;5;28mhasattr\u001b[39m(\u001b[38;5;28mself\u001b[39m\u001b[38;5;241m.\u001b[39msock, \u001b[38;5;124m\"\u001b[39m\u001b[38;5;124mversion\u001b[39m\u001b[38;5;124m\"\u001b[39m)\n\u001b[1;32m    439\u001b[0m     \u001b[38;5;129;01mand\u001b[39;00m \u001b[38;5;28mself\u001b[39m\u001b[38;5;241m.\u001b[39msock\u001b[38;5;241m.\u001b[39mversion() \u001b[38;5;129;01min\u001b[39;00m {\u001b[38;5;124m\"\u001b[39m\u001b[38;5;124mTLSv1\u001b[39m\u001b[38;5;124m\"\u001b[39m, \u001b[38;5;124m\"\u001b[39m\u001b[38;5;124mTLSv1.1\u001b[39m\u001b[38;5;124m\"\u001b[39m}\n\u001b[1;32m    440\u001b[0m ):\n",
      "File \u001b[0;32m~/anaconda3/lib/python3.11/site-packages/urllib3/util/ssl_.py:402\u001b[0m, in \u001b[0;36mssl_wrap_socket\u001b[0;34m(sock, keyfile, certfile, cert_reqs, ca_certs, server_hostname, ssl_version, ciphers, ssl_context, ca_cert_dir, key_password, ca_cert_data, tls_in_tls)\u001b[0m\n\u001b[1;32m    400\u001b[0m \u001b[38;5;28;01mif\u001b[39;00m ca_certs \u001b[38;5;129;01mor\u001b[39;00m ca_cert_dir \u001b[38;5;129;01mor\u001b[39;00m ca_cert_data:\n\u001b[1;32m    401\u001b[0m     \u001b[38;5;28;01mtry\u001b[39;00m:\n\u001b[0;32m--> 402\u001b[0m         context\u001b[38;5;241m.\u001b[39mload_verify_locations(ca_certs, ca_cert_dir, ca_cert_data)\n\u001b[1;32m    403\u001b[0m     \u001b[38;5;28;01mexcept\u001b[39;00m (\u001b[38;5;167;01mIOError\u001b[39;00m, \u001b[38;5;167;01mOSError\u001b[39;00m) \u001b[38;5;28;01mas\u001b[39;00m e:\n\u001b[1;32m    404\u001b[0m         \u001b[38;5;28;01mraise\u001b[39;00m SSLError(e)\n",
      "\u001b[0;31mKeyboardInterrupt\u001b[0m: "
     ]
    }
   ],
   "source": [
    "politicians_df['revision_id'] = None\n",
    "politicians_df['article_quality'] = None\n",
    "\n",
    "# Initialize a list to keep track of articles with errors\n",
    "error_articles = []\n",
    "error_count = 0\n",
    "\n",
    "# Iterate over the articles with a progress bar\n",
    "for index, row in tqdm(politicians_df.iterrows(), total=politicians_df.shape[0], desc='Processing articles'):\n",
    "    article_title = row['article_title']\n",
    "    \n",
    "    # Skip if article_title is None\n",
    "    if not article_title:\n",
    "        error_articles.append(row['url'])\n",
    "        error_count += 1\n",
    "        continue\n",
    "    \n",
    "    try:\n",
    "        # Get the latest revision ID\n",
    "        revision_id = get_latest_revision_id(article_title)\n",
    "        \n",
    "        if revision_id:\n",
    "            # Get the article quality prediction\n",
    "            quality = get_article_quality(revision_id)\n",
    "            \n",
    "            # Update the DataFrame\n",
    "            politicians_df.at[index, 'revision_id'] = revision_id\n",
    "            politicians_df.at[index, 'article_quality'] = quality\n",
    "        else:\n",
    "            error_articles.append(row['url'])\n",
    "            error_count += 1\n",
    "    except Exception as e:\n",
    "        print(f\"Error processing article '{article_title}': {e}\")\n",
    "        error_articles.append(row['url'])\n",
    "        error_count += 1\n",
    "    \n",
    "    # Update progress bar postfix with error count\n",
    "    tqdm.set_postfix(tqdm(), errors=error_count)\n",
    "\n",
    "# After processing, calculate the error rate\n",
    "total_articles = len(politicians_df)\n",
    "error_rate = (error_count / total_articles) * 100\n",
    "\n",
    "print(f\"Total articles: {total_articles}\")\n",
    "print(f\"Articles with errors: {error_count}\")\n",
    "print(f\"Error rate: {error_rate:.2f}%\")\n",
    "\n",
    "if error_rate > 1:\n",
    "    print(\"Error rate is higher than 1%. Please review your code.\")\n",
    "\n",
    "# Separate successful and failed articles\n",
    "failed_articles_df = politicians_df[politicians_df['revision_id'].isnull()]\n",
    "success_articles_df = politicians_df.dropna(subset=['revision_id', 'article_quality'])\n",
    "\n",
    "# Load the population dataset\n",
    "population_df = pd.read_csv('population_by_country_AUG.2024.csv')\n",
    "\n",
    "# Convert all column names to lowercase\n",
    "population_df.columns = population_df.columns.str.lower()\n",
    "success_articles_df.columns = success_articles_df.columns.str.lower()\n",
    "\n",
    "merged_df = pd.merge(\n",
    "    success_articles_df,\n",
    "    population_df[['geography', 'population', 'region']],  # Adjust column names as necessary\n",
    "    left_on='country',\n",
    "    right_on='geography',\n",
    "    how='left'\n",
    ")\n",
    "\n",
    "merged_df = merged_df.drop(columns=['geography'])\n",
    "output_columns = ['country', 'region', 'population', 'article_title', 'revision_id', 'article_quality']\n",
    "merged_df = merged_df[output_columns]\n",
    "\n",
    "merged_df.to_csv('wp_politicians_by_country.csv', index=False)\n",
    "unmatched_countries = merged_success[merged_success['population'].isna()]['country'].unique()\n",
    "\n",
    "with open('wp_countries-no_match.txt', 'w', encoding='utf-8') as f:\n",
    "    for country in unmatched_countries:\n",
    "        f.write(f\"{country}\\n\")"
   ]
  },
  {
   "cell_type": "markdown",
   "id": "f46a5a6d-e1ba-4210-8969-d80bc6b8ad3e",
   "metadata": {},
   "source": [
    "## Table Visualization"
   ]
  },
  {
   "cell_type": "code",
   "execution_count": 110,
   "id": "ae7e9105-1ba6-4fae-ad41-cf350730f4da",
   "metadata": {},
   "outputs": [],
   "source": [
    "# Ensure 'population' is numeric\n",
    "merged_success['population'] = pd.to_numeric(merged_success['population'], errors='coerce')\n",
    "\n",
    "\n",
    "high_quality_classes = ['FA', 'GA']\n",
    "country_group = merged_success.groupby('country')\n",
    "\n",
    "total_articles_per_country = country_group['article_title'].count().rename('total_articles')\n",
    "\n",
    "# High-quality articles per country\n",
    "high_quality_articles_per_country = country_group.apply(\n",
    "    lambda x: x[x['article_quality'].isin(high_quality_classes)].shape[0]\n",
    ").rename('high_quality_articles')\n",
    "\n",
    "population_per_country = country_group['population'].first()\n",
    "\n",
    "country_stats = pd.concat([\n",
    "    total_articles_per_country,\n",
    "    high_quality_articles_per_country,\n",
    "    population_per_country\n",
    "], axis=1)\n",
    "\n",
    "# Filter out countries with zero or missing population\n",
    "country_stats = country_stats[(country_stats['population'].notnull()) & (country_stats['population'] != 0)]\n",
    "\n",
    "# Convert population to float (population is in millions)\n",
    "country_stats['population'] = country_stats['population'].astype(float)\n",
    "\n",
    "# Calculate articles per capita\n",
    "country_stats['articles_per_capita'] = country_stats['total_articles'] / (country_stats['population'] * 1e6)\n",
    "country_stats['articles_per_million'] = country_stats['articles_per_capita'] * 1e6"
   ]
  },
  {
   "cell_type": "markdown",
   "id": "c7466982-a130-4d4a-ae99-3d3ecbc48346",
   "metadata": {},
   "source": [
    "# Top 10 Countries by Coverage (Highest Articles per Capita)"
   ]
  },
  {
   "cell_type": "code",
   "execution_count": 111,
   "id": "236f9a93-5e37-43d2-8fb7-2df5868dad86",
   "metadata": {},
   "outputs": [
    {
     "name": "stdout",
     "output_type": "stream",
     "text": [
      "Top 10 Countries by Coverage (Highest Articles per Capita):\n",
      "                                total_articles  population  \\\n",
      "country                                                      \n",
      "Antigua and Barbuda                         33         0.1   \n",
      "Federated States of Micronesia              14         0.1   \n",
      "Marshall Islands                            13         0.1   \n",
      "Tonga                                       10         0.1   \n",
      "Barbados                                    25         0.3   \n",
      "Montenegro                                  38         0.6   \n",
      "Seychelles                                   6         0.1   \n",
      "Bhutan                                      44         0.8   \n",
      "Maldives                                    33         0.6   \n",
      "St. Vincent and the Grenadines               4         0.1   \n",
      "\n",
      "                                articles_per_capita  articles_per_million  \n",
      "country                                                                    \n",
      "Antigua and Barbuda                        0.000330            330.000000  \n",
      "Federated States of Micronesia             0.000140            140.000000  \n",
      "Marshall Islands                           0.000130            130.000000  \n",
      "Tonga                                      0.000100            100.000000  \n",
      "Barbados                                   0.000083             83.333333  \n",
      "Montenegro                                 0.000063             63.333333  \n",
      "Seychelles                                 0.000060             60.000000  \n",
      "Bhutan                                     0.000055             55.000000  \n",
      "Maldives                                   0.000055             55.000000  \n",
      "St. Vincent and the Grenadines             0.000040             40.000000  \n"
     ]
    }
   ],
   "source": [
    "top_10_coverage = country_stats.sort_values('articles_per_capita', ascending=False).head(10)\n",
    "\n",
    "print(\"Top 10 Countries by Coverage (Highest Articles per Capita):\")\n",
    "print(top_10_coverage[['total_articles', 'population', 'articles_per_capita', 'articles_per_million']])"
   ]
  },
  {
   "cell_type": "markdown",
   "id": "f9d3201c-64ff-4319-9412-03e662580679",
   "metadata": {},
   "source": [
    "# Bottom 10 Countries by Coverage (Lowest Articles per Capita)"
   ]
  },
  {
   "cell_type": "code",
   "execution_count": 104,
   "id": "cd27999f-a5b5-4001-8764-11df7ac1bb6a",
   "metadata": {},
   "outputs": [
    {
     "name": "stdout",
     "output_type": "stream",
     "text": [
      "\n",
      "Bottom 10 Countries by Coverage (Lowest Articles per Capita):\n",
      "               total_articles  population  articles_per_capita  \\\n",
      "country                                                          \n",
      "China                      16      1411.3         1.133707e-08   \n",
      "Ghana                       3        34.1         8.797654e-08   \n",
      "India                     151      1428.6         1.056979e-07   \n",
      "Saudi Arabia                5        36.9         1.355014e-07   \n",
      "Zambia                      3        20.2         1.485149e-07   \n",
      "Norway                      1         5.5         1.818182e-07   \n",
      "Israel                      2         9.8         2.040816e-07   \n",
      "Egypt                      32       105.2         3.041825e-07   \n",
      "Cote d'Ivoire              10        30.9         3.236246e-07   \n",
      "Mozambique                 12        33.9         3.539823e-07   \n",
      "\n",
      "               articles_per_million  \n",
      "country                              \n",
      "China                      0.011337  \n",
      "Ghana                      0.087977  \n",
      "India                      0.105698  \n",
      "Saudi Arabia               0.135501  \n",
      "Zambia                     0.148515  \n",
      "Norway                     0.181818  \n",
      "Israel                     0.204082  \n",
      "Egypt                      0.304183  \n",
      "Cote d'Ivoire              0.323625  \n",
      "Mozambique                 0.353982  \n"
     ]
    }
   ],
   "source": [
    "bottom_10_coverage = country_stats.sort_values('articles_per_capita', ascending=True).head(10)\n",
    "\n",
    "print(\"\\nBottom 10 Countries by Coverage (Lowest Articles per Capita):\")\n",
    "print(bottom_10_coverage[['total_articles', 'population', 'articles_per_capita', 'articles_per_million']])"
   ]
  },
  {
   "cell_type": "markdown",
   "id": "d9c099db-c7bd-4806-a52f-fc1430afcbb1",
   "metadata": {},
   "source": [
    "# Top 10 Countries by High-Quality Articles per Capita"
   ]
  },
  {
   "cell_type": "code",
   "execution_count": 105,
   "id": "82942709-df20-48bf-8da5-7f0b46987365",
   "metadata": {},
   "outputs": [
    {
     "name": "stdout",
     "output_type": "stream",
     "text": [
      "\n",
      "Top 10 Countries by High-Quality Articles per Capita:\n",
      "                       high_quality_articles  population  \\\n",
      "country                                                    \n",
      "Montenegro                                 3         0.6   \n",
      "Luxembourg                                 2         0.7   \n",
      "Albania                                    7         2.7   \n",
      "Kosovo                                     4         1.7   \n",
      "Lithuania                                  6         2.9   \n",
      "Maldives                                   1         0.6   \n",
      "Croatia                                    5         3.8   \n",
      "Guyana                                     1         0.8   \n",
      "Palestinian Territory                      6         5.5   \n",
      "Slovenia                                   2         2.1   \n",
      "\n",
      "                       high_quality_articles_per_capita  \\\n",
      "country                                                   \n",
      "Montenegro                                 5.000000e-06   \n",
      "Luxembourg                                 2.857143e-06   \n",
      "Albania                                    2.592593e-06   \n",
      "Kosovo                                     2.352941e-06   \n",
      "Lithuania                                  2.068966e-06   \n",
      "Maldives                                   1.666667e-06   \n",
      "Croatia                                    1.315789e-06   \n",
      "Guyana                                     1.250000e-06   \n",
      "Palestinian Territory                      1.090909e-06   \n",
      "Slovenia                                   9.523810e-07   \n",
      "\n",
      "                       high_quality_articles_per_million  \n",
      "country                                                   \n",
      "Montenegro                                      5.000000  \n",
      "Luxembourg                                      2.857143  \n",
      "Albania                                         2.592593  \n",
      "Kosovo                                          2.352941  \n",
      "Lithuania                                       2.068966  \n",
      "Maldives                                        1.666667  \n",
      "Croatia                                         1.315789  \n",
      "Guyana                                          1.250000  \n",
      "Palestinian Territory                           1.090909  \n",
      "Slovenia                                        0.952381  \n"
     ]
    }
   ],
   "source": [
    "top_10_high_quality = country_stats.sort_values('high_quality_articles_per_capita', ascending=False).head(10)\n",
    "\n",
    "print(\"\\nTop 10 Countries by High-Quality Articles per Capita:\")\n",
    "print(top_10_high_quality[['high_quality_articles', 'population', 'high_quality_articles_per_capita', 'high_quality_articles_per_million']])"
   ]
  },
  {
   "cell_type": "markdown",
   "id": "e3e189ff-00f5-4f7a-b6f6-e33e20920dd8",
   "metadata": {},
   "source": [
    "# Bottom 10 Countries by High-Quality Articles per Capita"
   ]
  },
  {
   "cell_type": "code",
   "execution_count": 106,
   "id": "763dfe88-43b5-4805-aa08-975386dd32b2",
   "metadata": {},
   "outputs": [
    {
     "name": "stdout",
     "output_type": "stream",
     "text": [
      "\n",
      "Bottom 10 Countries by High-Quality Articles per Capita:\n",
      "                     high_quality_articles  population  \\\n",
      "country                                                  \n",
      "Zimbabwe                                 0        16.7   \n",
      "Congo                                    0         6.1   \n",
      "Kuwait                                   0         4.4   \n",
      "St. Lucia                                0         0.2   \n",
      "Cote d'Ivoire                            0        30.9   \n",
      "St. Kitts and Nevis                      0         0.1   \n",
      "Solomon Islands                          0         0.8   \n",
      "Cyprus                                   0         1.3   \n",
      "Singapore                                0         5.8   \n",
      "Djibouti                                 0         1.1   \n",
      "\n",
      "                     high_quality_articles_per_capita  \\\n",
      "country                                                 \n",
      "Zimbabwe                                          0.0   \n",
      "Congo                                             0.0   \n",
      "Kuwait                                            0.0   \n",
      "St. Lucia                                         0.0   \n",
      "Cote d'Ivoire                                     0.0   \n",
      "St. Kitts and Nevis                               0.0   \n",
      "Solomon Islands                                   0.0   \n",
      "Cyprus                                            0.0   \n",
      "Singapore                                         0.0   \n",
      "Djibouti                                          0.0   \n",
      "\n",
      "                     high_quality_articles_per_million  \n",
      "country                                                 \n",
      "Zimbabwe                                           0.0  \n",
      "Congo                                              0.0  \n",
      "Kuwait                                             0.0  \n",
      "St. Lucia                                          0.0  \n",
      "Cote d'Ivoire                                      0.0  \n",
      "St. Kitts and Nevis                                0.0  \n",
      "Solomon Islands                                    0.0  \n",
      "Cyprus                                             0.0  \n",
      "Singapore                                          0.0  \n",
      "Djibouti                                           0.0  \n"
     ]
    }
   ],
   "source": [
    "bottom_10_high_quality = country_stats.sort_values('high_quality_articles_per_capita', ascending=True).head(10)\n",
    "\n",
    "print(\"\\nBottom 10 Countries by High-Quality Articles per Capita:\")\n",
    "print(bottom_10_high_quality[['high_quality_articles', 'population', 'high_quality_articles_per_capita', 'high_quality_articles_per_million']])"
   ]
  },
  {
   "cell_type": "code",
   "execution_count": 107,
   "id": "cad76594-bb30-4417-bc4d-978ee887bf3f",
   "metadata": {},
   "outputs": [],
   "source": [
    "region_stats = pd.concat([\n",
    "    total_articles_per_region,\n",
    "    high_quality_articles_per_region,\n",
    "    population_per_region\n",
    "], axis=1)\n",
    "\n",
    "region_stats['articles_per_capita'] = region_stats['total_articles'] / (region_stats['population'] * 1e6)\n",
    "region_stats['high_quality_articles_per_capita'] = region_stats['high_quality_articles'] / (region_stats['population'] * 1e6)\n",
    "\n",
    "region_stats['articles_per_million'] = region_stats['articles_per_capita'] * 1e6\n",
    "region_stats['high_quality_articles_per_million'] = region_stats['high_quality_articles_per_capita'] * 1e6"
   ]
  },
  {
   "cell_type": "markdown",
   "id": "fcbfd40a-7078-4d90-bac5-a6d5ec039055",
   "metadata": {},
   "source": [
    "# Geographic Regions by Total Coverage (Articles per Capita)"
   ]
  },
  {
   "cell_type": "code",
   "execution_count": 108,
   "id": "a2dcead8-7ab6-43a0-bc1c-df23b5f4fed7",
   "metadata": {},
   "outputs": [
    {
     "name": "stdout",
     "output_type": "stream",
     "text": [
      "\n",
      "Geographic Regions by Total Coverage (Articles per Capita):\n",
      "                  total_articles  population  articles_per_capita  \\\n",
      "region                                                              \n",
      "Tuvalu                         1         0.0                  inf   \n",
      "Monaco                        10         0.0                  inf   \n",
      "Marshall Islands              13         1.3         1.000000e-05   \n",
      "Grenada                        2         0.2         1.000000e-05   \n",
      "Tonga                         10         1.0         1.000000e-05   \n",
      "...                          ...         ...                  ...   \n",
      "Nigeria                      245     54831.0         4.468275e-09   \n",
      "Pakistan                      97     23328.5         4.158004e-09   \n",
      "Indonesia                    114     31771.8         3.588088e-09   \n",
      "China                         16     22580.8         7.085666e-10   \n",
      "India                        151    215718.6         6.999860e-10   \n",
      "\n",
      "                  articles_per_million  \n",
      "region                                  \n",
      "Tuvalu                             inf  \n",
      "Monaco                             inf  \n",
      "Marshall Islands             10.000000  \n",
      "Grenada                      10.000000  \n",
      "Tonga                        10.000000  \n",
      "...                                ...  \n",
      "Nigeria                       0.004468  \n",
      "Pakistan                      0.004158  \n",
      "Indonesia                     0.003588  \n",
      "China                         0.000709  \n",
      "India                         0.000700  \n",
      "\n",
      "[166 rows x 4 columns]\n"
     ]
    }
   ],
   "source": [
    "regions_by_coverage = region_stats.sort_values('articles_per_capita', ascending=False)\n",
    "\n",
    "print(\"\\nGeographic Regions by Total Coverage (Articles per Capita):\")\n",
    "print(regions_by_coverage[['total_articles', 'population', 'articles_per_capita', 'articles_per_million']])"
   ]
  },
  {
   "cell_type": "markdown",
   "id": "6656da9d-f7c7-47d7-9ffb-aa449813c966",
   "metadata": {},
   "source": [
    "# Geographic Regions by High-Quality Coverage (High-Quality Articles per Capita)"
   ]
  },
  {
   "cell_type": "code",
   "execution_count": 109,
   "id": "b3b57d3c-e912-4422-b7b3-6f07e33196e7",
   "metadata": {},
   "outputs": [
    {
     "name": "stdout",
     "output_type": "stream",
     "text": [
      "\n",
      "Geographic Regions by High-Quality Coverage (High-Quality Articles per Capita):\n",
      "            high_quality_articles  population  \\\n",
      "region                                          \n",
      "Montenegro                      3        22.8   \n",
      "Luxembourg                      2        18.9   \n",
      "Gabon                           1        12.0   \n",
      "Kosovo                          4        49.3   \n",
      "Latvia                          1        13.3   \n",
      "...                           ...         ...   \n",
      "Honduras                        0       174.6   \n",
      "Haiti                           0       394.4   \n",
      "Zimbabwe                        0      1152.3   \n",
      "Monaco                          0         0.0   \n",
      "Tuvalu                          0         0.0   \n",
      "\n",
      "            high_quality_articles_per_capita  \\\n",
      "region                                         \n",
      "Montenegro                      1.315789e-07   \n",
      "Luxembourg                      1.058201e-07   \n",
      "Gabon                           8.333333e-08   \n",
      "Kosovo                          8.113590e-08   \n",
      "Latvia                          7.518797e-08   \n",
      "...                                      ...   \n",
      "Honduras                        0.000000e+00   \n",
      "Haiti                           0.000000e+00   \n",
      "Zimbabwe                        0.000000e+00   \n",
      "Monaco                                   NaN   \n",
      "Tuvalu                                   NaN   \n",
      "\n",
      "            high_quality_articles_per_million  \n",
      "region                                         \n",
      "Montenegro                           0.131579  \n",
      "Luxembourg                           0.105820  \n",
      "Gabon                                0.083333  \n",
      "Kosovo                               0.081136  \n",
      "Latvia                               0.075188  \n",
      "...                                       ...  \n",
      "Honduras                             0.000000  \n",
      "Haiti                                0.000000  \n",
      "Zimbabwe                             0.000000  \n",
      "Monaco                                    NaN  \n",
      "Tuvalu                                    NaN  \n",
      "\n",
      "[166 rows x 4 columns]\n"
     ]
    }
   ],
   "source": [
    "regions_by_high_quality = region_stats.sort_values('high_quality_articles_per_capita', ascending=False)\n",
    "\n",
    "print(\"\\nGeographic Regions by High-Quality Coverage (High-Quality Articles per Capita):\")\n",
    "print(regions_by_high_quality[['high_quality_articles', 'population', 'high_quality_articles_per_capita', 'high_quality_articles_per_million']])"
   ]
  },
  {
   "cell_type": "code",
   "execution_count": null,
   "id": "f5f93633-5546-475f-9c2e-e95de0731dac",
   "metadata": {},
   "outputs": [],
   "source": []
  }
 ],
 "metadata": {
  "kernelspec": {
   "display_name": "Python 3 (ipykernel)",
   "language": "python",
   "name": "python3"
  },
  "language_info": {
   "codemirror_mode": {
    "name": "ipython",
    "version": 3
   },
   "file_extension": ".py",
   "mimetype": "text/x-python",
   "name": "python",
   "nbconvert_exporter": "python",
   "pygments_lexer": "ipython3",
   "version": "3.11.5"
  }
 },
 "nbformat": 4,
 "nbformat_minor": 5
}
